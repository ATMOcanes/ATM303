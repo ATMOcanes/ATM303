{
 "cells": [
  {
   "cell_type": "markdown",
   "metadata": {},
   "source": [
    "<a name=\"top\"></a>\n",
    "<div style=\"width:1000 px\">\n",
    "\n",
    "<div style=\"float:right; width:98 px; height:98px;\">\n",
    "<img src=\"https://cdn.miami.edu/_assets-common/images/system/um-logo-gray-bg.png\" alt=\"Miami Logo\" style=\"height: 98px;\">\n",
    "</div>\n",
    "\n",
    "<h1>ATM 303 LabJack sampling and plotting lesson</h1>\n",
    "\n",
    "<div style=\"clear:both\"></div>\n",
    "</div>\n",
    "\n",
    "<hr style=\"height:2px;\">\n",
    "\n",
    "### Steps\n",
    "1. <a href=\"#sampling\">Sample from the LabJack device</a>\n",
    "1. <a href=\"#plotting\">Plot data</a>"
   ]
  },
  {
   "cell_type": "markdown",
   "metadata": {},
   "source": [
    "<a name=\"sampling\"></a>\n",
    "### Read a single value"
   ]
  },
  {
   "cell_type": "code",
   "execution_count": 1,
   "metadata": {},
   "outputs": [
    {
     "name": "stdout",
     "output_type": "stream",
     "text": [
      "Help on function eAnalogIn in module u12:\n",
      "\n",
      "eAnalogIn(self, channel, idNum=None, demo=0, gain=0)\n",
      "    Name: U12.eAnalogIn(channel, idNum = None, demo=0, gain=0)\n",
      "    Args: See section 4.1 of the User's Guide\n",
      "    Desc: This is a simplified version of AISample. Reads the voltage from 1 analog input\n",
      "    \n",
      "    >>> import u12\n",
      "    >>> d = u12.U12()\n",
      "    >>> d.eAnalogIn(0)\n",
      "    {'overVoltage': 0, 'idnum': 1, 'voltage': 1.435546875}\n",
      "\n"
     ]
    }
   ],
   "source": [
    "import u12\n",
    "#d = u12.U12(debug=True)\n",
    "d = u12.U12(debug=False)\n",
    "help(u12.U12.eAnalogIn)"
   ]
  },
  {
   "cell_type": "code",
   "execution_count": 2,
   "metadata": {},
   "outputs": [
    {
     "data": {
      "text/plain": [
       "3.0078125"
      ]
     },
     "execution_count": 2,
     "metadata": {},
     "output_type": "execute_result"
    }
   ],
   "source": [
    "#overVoltage, idnum, voltage = d.eAnalogIn(0)\n",
    "d.eAnalogIn(0)['voltage']\n"
   ]
  },
  {
   "cell_type": "markdown",
   "metadata": {},
   "source": [
    "## Loop to capture a time series "
   ]
  },
  {
   "cell_type": "code",
   "execution_count": 12,
   "metadata": {},
   "outputs": [
    {
     "name": "stdout",
     "output_type": "stream",
     "text": [
      "9\n",
      "8\n",
      "7\n",
      "6\n",
      "5\n",
      "4\n",
      "3\n",
      "2\n",
      "1\n",
      "0\n"
     ]
    },
    {
     "data": {
      "text/plain": [
       "{'Sun, 11 Feb 2018 01:06:59 +0000': 3.02734375,\n",
       " 'Sun, 11 Feb 2018 01:07:00 +0000': 3.02734375,\n",
       " 'Sun, 11 Feb 2018 01:07:01 +0000': 3.02734375,\n",
       " 'Sun, 11 Feb 2018 01:07:02 +0000': 3.02734375,\n",
       " 'Sun, 11 Feb 2018 01:07:03 +0000': 3.02734375,\n",
       " 'Sun, 11 Feb 2018 01:07:04 +0000': 3.037109375,\n",
       " 'Sun, 11 Feb 2018 01:07:05 +0000': 3.0419921875,\n",
       " 'Sun, 11 Feb 2018 01:07:06 +0000': 3.0419921875,\n",
       " 'Sun, 11 Feb 2018 01:07:07 +0000': 3.046875,\n",
       " 'Sun, 11 Feb 2018 01:07:08 +0000': 3.046875,\n",
       " 'Sun, 11 Feb 2018 01:07:09 +0000': 3.0517578125}"
      ]
     },
     "execution_count": 12,
     "metadata": {},
     "output_type": "execute_result"
    }
   ],
   "source": [
    "duration = 10     # SECONDS\n",
    "dtime    = 1      # SECONDS\n",
    "\n",
    "from time import gmtime, strftime\n",
    "import time\n",
    "\n",
    "t_end = time.time() + duration\n",
    "\n",
    "data = {strftime(\"%a, %d %b %Y %H:%M:%S +0000\", gmtime()):d.eAnalogIn(0)['voltage']}\n",
    "while time.time() < t_end:\n",
    "    print( int(t_end - time.time()) ) # Countdown timer\n",
    "#Sleep:\n",
    "    time.sleep(dtime) \n",
    "# Capture:\n",
    "    data.update( {strftime(\"%a, %d %b %Y %H:%M:%S +0000\", gmtime()):d.eAnalogIn(0)['voltage']} )\n",
    "\n",
    "# Print the resulting dictionary:\n",
    "data"
   ]
  },
  {
   "cell_type": "markdown",
   "metadata": {},
   "source": [
    "<a name=\"plotting\"></a>\n",
    "# Plotting code "
   ]
  },
  {
   "cell_type": "code",
   "execution_count": 13,
   "metadata": {},
   "outputs": [
    {
     "name": "stdout",
     "output_type": "stream",
     "text": [
      "Populating the interactive namespace from numpy and matplotlib\n"
     ]
    },
    {
     "data": {
      "text/plain": [
       "[<matplotlib.lines.Line2D at 0x110752780>]"
      ]
     },
     "execution_count": 13,
     "metadata": {},
     "output_type": "execute_result"
    },
    {
     "data": {
      "image/png": "[encoded data removed]",
      "text/plain": [
       "<matplotlib.figure.Figure at 0x1106fb4a8>"
      ]
     },
     "metadata": {},
     "output_type": "display_data"
    }
   ],
   "source": [
    "%pylab inline\n",
    "plot(data.values())"
   ]
  },
  {
   "cell_type": "markdown",
   "metadata": {},
   "source": [
    "<a href=\"#top\">Top</a>\n",
    "<hr style=\"height:2px;\">"
   ]
  }
 ],
 "metadata": {
  "kernelspec": {
   "display_name": "Python 3",
   "language": "python",
   "name": "python3"
  },
  "language_info": {
   "codemirror_mode": {
    "name": "ipython",
    "version": 3
   },
   "file_extension": ".py",
   "mimetype": "text/x-python",
   "name": "python",
   "nbconvert_exporter": "python",
   "pygments_lexer": "ipython3",
   "version": "3.6.4"
  }
 },
 "nbformat": 4,
 "nbformat_minor": 1
}
