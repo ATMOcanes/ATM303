{
 "cells": [
  {
   "cell_type": "markdown",
   "metadata": {},
   "source": [
    "<a name=\"top\"></a>\n",
    "<div style=\"width:1000 px\">\n",
    "\n",
    "<div style=\"float:right; width:98 px; height:98px;\">\n",
    "<img src=\"https://cdn.miami.edu/_assets-common/images/system/um-logo-gray-bg.png\" alt=\"Miami Logo\" style=\"height: 98px;\">\n",
    "</div>\n",
    "\n",
    "<h1>ATM 303 LabJack sampling and plotting lesson</h1>\n",
    "\n",
    "<div style=\"clear:both\"></div>\n",
    "</div>\n",
    "\n",
    "<hr style=\"height:2px;\">\n",
    "\n",
    "<div style=\"float:right; width:250 px\"><img src=\"http://matplotlib.org/_images/date_demo.png\" alt=\"METAR\" style=\"height: 300px;\"></div>\n",
    "\n",
    "### Steps\n",
    "1. <a href=\"#sampling\">Sample from the LabJack device</a>\n",
    "1. <a href=\"#plotting\">Plot data</a>"
   ]
  },
  {
   "cell_type": "markdown",
   "metadata": {},
   "source": [
    "## Sample LabJack code here was adapted to make this notebook\n",
    "http://www.physics.hmc.edu/courses/p057/pmwiki/pmwiki.php/Software/SampleLabJackCode"
   ]
  },
  {
   "cell_type": "markdown",
   "metadata": {},
   "source": [
    "<a name=\"sampling\"></a>\n",
    "### Read a single value"
   ]
  },
  {
   "cell_type": "code",
   "execution_count": 1,
   "metadata": {},
   "outputs": [
    {
     "ename": "SyntaxError",
     "evalue": "invalid syntax (<ipython-input-1-bfc98b94259f>, line 4)",
     "output_type": "error",
     "traceback": [
      "\u001b[0;36m  File \u001b[0;32m\"<ipython-input-1-bfc98b94259f>\"\u001b[0;36m, line \u001b[0;32m4\u001b[0m\n\u001b[0;31m    print d.getAIN( 0 )  # read analog input channel 0 and print the result\u001b[0m\n\u001b[0m          ^\u001b[0m\n\u001b[0;31mSyntaxError\u001b[0m\u001b[0;31m:\u001b[0m invalid syntax\n"
     ]
    }
   ],
   "source": [
    "import u3            # load the u3 module\n",
    "d = u3.U3()          # create a u3 device controller\n",
    "d.configU3()         # configure it\n",
    "print d.getAIN( 0 )  # read analog input channel 0 and print the result"
   ]
  },
  {
   "cell_type": "markdown",
   "metadata": {},
   "source": [
    "### Streaming data for an indefinite time\n",
    "\n",
    "The following Python program will sample one or more analog input channels of the LabJack at a specified sampling frequency for an indefinite time. By editing the first few variable declarations at the top of the file, you may set\n",
    "\n",
    "- the number of channels\n",
    "- the sampling frequency\n",
    "- the filename to which to write the data (in text form)\n",
    "- the column names for the data (if you wish; defaults will be provided if you don't)\n",
    "\n",
    "Once started, the program will run indefinitely. Press Control-C to stop it.\n",
    "\n",
    "Caution: if the program reports an error during the run, you should not trust the data. This tends to happen when you ask the LabJack to record samples near its rated capacity. See the LabJack site for details."
   ]
  },
  {
   "cell_type": "code",
   "execution_count": null,
   "metadata": {},
   "outputs": [],
   "source": [
    "# Peter N. Saeta, 2013 November 11\n",
    "\n",
    "# This code uses the LabJack to record 1 or more voltages at a\n",
    "# regular cadence. It runs until you stop it with Ctrl-C.\n",
    "# Edit the values below (above the import u3 statement)\n",
    "# to match your requirements. Note that the Resolution parameter\n",
    "# sets the accuracy of the data. The smaller the number, the better\n",
    "# the accuracy, but the slower the sampling rate must be. See\n",
    "# http://labjack.com/support/u3/users-guide/3.2 for details.\n",
    "\n",
    "NumChannels = 2\n",
    "# The number of times each second that each channel will be sampled\n",
    "SampleFrequency = 10000\n",
    "Resolution = 2\n",
    "# Where the data will be written\n",
    "filename = 'data.txt'\n",
    "# Put a list of strings with the names you would like associated with\n",
    "# chan0, chan1, ... Example: wavenames = ['sync', 'V_in', 'V_out']\n",
    "# If left blank, it will be filled with ['wave0', 'wave1', ...]\n",
    "wavenames = []\n",
    "\n",
    "import u3\n",
    "import time\n",
    "\n",
    "# Prepare the u3 interface for streaming\n",
    "\n",
    "d = u3.U3()        # initialize the interface; assumes a single U3 is plugged in to a USB port\n",
    "d.configU3()    # set default configuration\n",
    "d.configIO( FIOAnalog = 1 )        # ask for analog inputs\n",
    "\n",
    "# In case the stream was left running from a previous execution\n",
    "try: d.streamStop()\n",
    "except: pass\n",
    "\n",
    "\n",
    "d.streamConfig( NumChannels = NumChannels,\n",
    "    PChannels = range(NumChannels),\n",
    "    NChannels = [ 31 for x in range(NumChannels) ],\n",
    "    Resolution = Resolution,\n",
    "    SampleFrequency = SampleFrequency )\n",
    "\n",
    "#d.packetsPerRequest = 1000\n",
    "\n",
    "# Try to measure a data set.\n",
    "def measure():\n",
    "    try:\n",
    "        for r in d.streamData():\n",
    "            if r is not None:\n",
    "                if r['errors'] or r['numPackets'] != d.packetsPerRequest or r['missed']:\n",
    "                    print \"error: errors = '%s', numpackets = %d, missed = '%s'\" % (r['errors'], r['numPackets'], r['missed'])\n",
    "                break\n",
    "    finally:\n",
    "        pass\n",
    "    return r\n",
    "\n",
    "# Write a set of data to the file\n",
    "def writeData( r ):\n",
    "    chans = [ r['AIN%d' % (n)] for n in range(NumChannels) ]\n",
    "    for i in range(len(chans[0])):\n",
    "        f.write( \"\\t\".join( ['%.6f' % c[i] for c in chans] ) + '\\n' )\n",
    "\n",
    "with open(filename, 'w') as f:\n",
    "    f.write( \"frequency=%d\\n\" % SampleFrequency)\n",
    "    if wavenames == []:\n",
    "        wavenames = ['wave%d' % n for n in range(NumChannels)]\n",
    "    f.write( '\\t'.join(wavenames) + '\\n')\n",
    "\n",
    "# start the stream\n",
    "d.streamStart()\n",
    "loop = 0\n",
    "\n",
    "try:\n",
    "    start = time.time()\n",
    "    while True:\n",
    "        with open(filename, 'a') as f:\n",
    "            writeData( measure() )\n",
    "        loop += 1\n",
    "        print( \"[%.4d %.2f s]\" % (loop, time.time() - start))\n",
    "finally:\n",
    "    d.streamStop()"
   ]
  },
  {
   "cell_type": "code",
   "execution_count": null,
   "metadata": {},
   "outputs": [],
   "source": []
  },
  {
   "cell_type": "code",
   "execution_count": null,
   "metadata": {},
   "outputs": [],
   "source": []
  },
  {
   "cell_type": "code",
   "execution_count": null,
   "metadata": {},
   "outputs": [],
   "source": []
  },
  {
   "cell_type": "markdown",
   "metadata": {},
   "source": [
    "<a name=\"plotting\"></a>\n",
    "# Plotting code "
   ]
  },
  {
   "cell_type": "code",
   "execution_count": null,
   "metadata": {},
   "outputs": [],
   "source": []
  },
  {
   "cell_type": "markdown",
   "metadata": {},
   "source": [
    "<a href=\"#top\">Top</a>\n",
    "<hr style=\"height:2px;\">"
   ]
  }
 ],
 "metadata": {
  "kernelspec": {
   "display_name": "Python 3",
   "language": "python",
   "name": "python3"
  },
  "language_info": {
   "codemirror_mode": {
    "name": "ipython",
    "version": 3
   },
   "file_extension": ".py",
   "mimetype": "text/x-python",
   "name": "python",
   "nbconvert_exporter": "python",
   "pygments_lexer": "ipython3",
   "version": "3.6.3"
  }
 },
 "nbformat": 4,
 "nbformat_minor": 1
}
