{
 "cells": [
  {
   "cell_type": "markdown",
   "metadata": {},
   "source": [
    "<a name=\"top\"></a>\n",
    "<div style=\"width:1000 px\">\n",
    "\n",
    "<div style=\"float:right; width:98 px; height:98px;\">\n",
    "<img src=\"https://raw.githubusercontent.com/Unidata/MetPy/master/metpy/plots/_static/unidata_150x150.png\" alt=\"Unidata Logo\" style=\"height: 98px;\">\n",
    "</div>\n",
    "\n",
    "<h1>Upper Air and the Skew-T Log-P, with winds</h1>\n",
    "<h3>Unidata Python Workshop</h3>\n",
    "\n",
    "<div style=\"clear:both\"></div>\n",
    "</div>\n",
    "\n",
    "<hr style=\"height:2px;\">\n",
    "\n",
    "<div style=\"float:right; width:250 px\"><img src=\"https://unidata.github.io/MetPy/latest/_images/sphx_glr_Advanced_Sounding_001.png\" alt=\"Example Skew-T\" style=\"height: 500px;\"></div>\n",
    "\n",
    "\n",
    "### Objectives\n",
    "Exposure to Python through an example (we can back up and do a python tutorial later on)\n",
    "1. <a href=\"#upperairdata\">Obtain upper air data</a>\n",
    "1. <a href=\"#simpleplot\">Make a simple T, Td plot</a>\n",
    "1. <a href=\"#simpleplot_2sondes\">Add a second sounding</a>\n",
    "1. <a href=\"#winds\">Repeat with winds</a>\n",
    "1. <a href=\"#skewt\">Make a Skew-T</a>\n",
    "1. <a href=\"#fiduciallines\">Adding fiducial lines and shading</a>\n",
    "1. <a href=\"#hodograph\">Plotting a hodograph</a>"
   ]
  },
  {
   "cell_type": "markdown",
   "metadata": {},
   "source": [
    "## YOUR NAME HERE:"
   ]
  },
  {
   "cell_type": "markdown",
   "metadata": {},
   "source": [
    "<a name=\"upperairdata\"></a>\n",
    "## Obtain upper air data\n",
    "\n",
    "Upper air observations are reported as a plain text file in a tabular format that represents the down sampled raw data transmitted by the balloon. Data are reported at irregular height intervals that vary with balloon speed - the weather balloons tend to rise faster higher up in the atmosphere. The text files look like this at their beginning:\n",
    "\n",
    "```\n",
    "-----------------------------------------------------------------------------\n",
    "   PRES   HGHT   TEMP   DWPT   RELH   MIXR   DRCT   SKNT   THTA   THTE   THTV\n",
    "    hPa     m      C      C      %    g/kg    deg   knot     K      K      K \n",
    "-----------------------------------------------------------------------------\n",
    " 1000.0    270                                                               \n",
    "  991.0    345   -0.3   -2.8     83   3.15      0      0  273.6  282.3  274.1\n",
    "  984.0    403   10.2   -7.8     27   2.17    327      4  284.7  291.1  285.0\n",
    "  963.0    581   11.8   -9.2     22   1.99    226     17  288.0  294.1  288.4\n",
    "  959.7    610   11.6   -9.4     22   1.96    210     19  288.1  294.1  288.5\n",
    "  ```\n",
    "  \n",
    "The data are available to download from the [University of Wyoming archive](http://weather.uwyo.edu/upperair/sounding.html) and the [Iowa State archive](https://mesonet.agron.iastate.edu/archive/raob/). **There is no need to download data manually.** We can use the siphon library to request and download these data. We focus on the two soundings from Miami: 10 September 2017 0Z prior to Irma's landfall and 11 September 2017 12Z after Irma's landfall.\n",
    "\n",
    "First, we need to create a `datetime` object that has the time of observation we are looking for. We then request the data for the specific Miami station. Note that a cell is executed by hitting shift-return from anywhere within the cell. You can tell the cell has been executed by seeing a number appear to the left of the cell, e.g., \"In [1]\". As you move through this, you can add your own code in certain cells by selecting the \"Markdown\" mode from the pulldown menu at the top, located underneat 'Widgets'."
   ]
  },
  {
   "cell_type": "code",
   "execution_count": null,
   "metadata": {},
   "outputs": [],
   "source": [
    "from datetime import datetime\n",
    "\n",
    "from siphon.simplewebservice.wyoming import WyomingUpperAir\n",
    "from metpy.io import get_upper_air_data\n",
    "\n",
    "date = datetime(2017, 9, 10, 0)\n",
    "station = 'MFL'\n",
    "df = WyomingUpperAir.request_data(date, station)"
   ]
  },
  {
   "cell_type": "markdown",
   "metadata": {},
   "source": [
    "The data are returned as a `pandas` `DataFrame` variable named 'df'"
   ]
  },
  {
   "cell_type": "markdown",
   "metadata": {},
   "source": [
    "Next, we will pull out the data and attach the units which are stored in a dictionary in the `DataFrame` attribute `units`."
   ]
  },
  {
   "cell_type": "code",
   "execution_count": null,
   "metadata": {},
   "outputs": [],
   "source": [
    "from metpy.units import units\n",
    "\n",
    "p = df['pressure'].values * units(df.units['pressure'])\n",
    "T = df['temperature'].values * units(df.units['temperature'])\n",
    "Td = df['dewpoint'].values * units(df.units['dewpoint'])\n",
    "u = df['u_wind'].values * units(df.units['u_wind'])\n",
    "v = df['v_wind'].values * units(df.units['v_wind'])\n",
    "wind_dir = df['direction'].values * units(df.units['direction'])"
   ]
  },
  {
   "cell_type": "markdown",
   "metadata": {},
   "source": [
    "<div class=\"alert alert-success\">\n",
    "    <b>EXERCISE</b>:\n",
    "     <ul>\n",
    "      <li>\n",
    "      Get the additional data from the 9/11/2017 12Z Miami sounding based on the code above. Use a second set of variable names so that you do not overwrite the data from the 9/10/2017 0Z Miami sounding.\n",
    "      </li>\n",
    "      <li>Pull the data out into renamed versions of the <code>p, T, Td, u, v, wind_dir</code> variables and attach the proper units.</li>\n",
    "    </ul>\n",
    "</div>"
   ]
  },
  {
   "cell_type": "code",
   "execution_count": null,
   "metadata": {},
   "outputs": [],
   "source": [
    "# Your code goes here"
   ]
  },
  {
   "cell_type": "markdown",
   "metadata": {},
   "source": [
    "<a href=\"#top\">Top</a>\n",
    "<hr style=\"height:2px;\">"
   ]
  },
  {
   "cell_type": "markdown",
   "metadata": {},
   "source": [
    "<a name=\"simpleplot\"></a>\n",
    "## ATM303: Make a Simple T, Td Plot\n",
    "\n",
    "Plot the temperature and dewpoint temperature of the 2 soundings on the same figure (you may notice that if unit labels are not provided, that `matplotlib` will work with the units previously attached to the quantities). The code provided below plots one set of T, Td soundings, **you add additional code to plot the 2nd sounding in the cell below. **"
   ]
  },
  {
   "cell_type": "code",
   "execution_count": null,
   "metadata": {},
   "outputs": [],
   "source": [
    "import matplotlib.pyplot as plt\n",
    "%matplotlib inline"
   ]
  },
  {
   "cell_type": "code",
   "execution_count": null,
   "metadata": {},
   "outputs": [],
   "source": [
    "fig = plt.figure(figsize=(10, 10))\n",
    "ax1 = plt.subplot()\n",
    "\n",
    "ax1.plot(T, p, color='tab:red')\n",
    "ax1.plot(Td, p, color='tab:green')\n",
    "\n",
    "ax1.set_ylim(1000, 0)"
   ]
  },
  {
   "cell_type": "code",
   "execution_count": null,
   "metadata": {},
   "outputs": [],
   "source": [
    "#your code goes here. use 'linestyle='--' to get a dashed line. add a 'fig' call \n",
    "#at the end to plot"
   ]
  },
  {
   "cell_type": "markdown",
   "metadata": {},
   "source": [
    "\n",
    "## ATM303: Make a Plot of the Wind Speeds from the 2 soundings and of the wind directions\n",
    "\n",
    "Now we make the same plot for wind speeds. First the wind speed needs to be calculated from u and v. Note the syntax used for doing so. Also, the units are changed from 'knots', which seems to be the default here, to 'm/s'. "
   ]
  },
  {
   "cell_type": "code",
   "execution_count": null,
   "metadata": {},
   "outputs": [],
   "source": [
    "fig = plt.figure(figsize=(10, 10))\n",
    "ax1 = plt.subplot()\n",
    "wind_speed = (u**2+v**2)**(0.5)\n",
    "ax1.plot(wind_speed.to('m/s'), p, color='tab:red')\n",
    "\n",
    "ax1.set_ylim(1000, 0)"
   ]
  },
  {
   "cell_type": "code",
   "execution_count": null,
   "metadata": {},
   "outputs": [],
   "source": [
    "# write your code for adding the wind speeds from the second sounding to the same plot here\n"
   ]
  },
  {
   "cell_type": "markdown",
   "metadata": {},
   "source": [
    "## ATM303: Make a third plot, of the Wind directions from the 2 soundings\n",
    "\n",
    "To do this, note that the wind direction can be read directly from the soundings (see columns of the \"df\" header file you printed above). \n",
    "**What is the convention** used within the sounding files, meaning how is the wind blowing at a direction of 0, 90, 180, 270 and 360 degrees?"
   ]
  },
  {
   "cell_type": "code",
   "execution_count": null,
   "metadata": {},
   "outputs": [],
   "source": [
    "# write your code for plotting the wind directions from both soundings here"
   ]
  },
  {
   "cell_type": "markdown",
   "metadata": {},
   "source": [
    "# ATM303: Your Answer Box:\n",
    "    \n",
    "#### Based on your 3 plots above, discuss how the atmosphere changed with time during the passage of Irma. \n",
    "\n",
    "#### From wind direction, can you assess where the storm center was relative to the sounding site?      \n",
    "    \n",
    "* answer text goes here\n",
    " \n",
    "* more answer text goes here    \n"
   ]
  },
  {
   "cell_type": "markdown",
   "metadata": {},
   "source": [
    "<a href=\"#top\">Top</a>\n",
    "<hr style=\"height:2px;\">"
   ]
  },
  {
   "cell_type": "markdown",
   "metadata": {},
   "source": [
    "<a name=\"skewt\"></a>\n",
    "\n",
    "## Make a Skew-T\n",
    "Meteorologists conventionally look at soundings on the Skew-T Log-p diagram. In these, the isotherms are skewed diagonally, pressure is plotted in log space, and additional lines show dry adiabats, moist adiabats, and water vapor mixing ratios (you'll learn about those in thermo class). This representation helps meteorologists quickly gauge visually such information as the convective capacity of the atmosphere and the presence of inversions and mixed layers. Here we can at least learn how to make skew-T plots as well."
   ]
  },
  {
   "cell_type": "code",
   "execution_count": null,
   "metadata": {},
   "outputs": [],
   "source": [
    "from metpy.plots import SkewT\n",
    "\n",
    "# Create a new figure. The dimensions here give a good aspect ratio\n",
    "fig = plt.figure(figsize=(10, 10))\n",
    "skew = SkewT(fig)\n",
    "\n",
    "# Plot the data using normal plotting functions, all of the transforms\n",
    "# happen in the background!\n",
    "skew.plot(p, T, color='tab:red')"
   ]
  },
  {
   "cell_type": "markdown",
   "metadata": {},
   "source": [
    "Let's set the pressure limits to be sensible for what we're interested in, say 1000-100 hPa. We'll also add wind barbs using the `plot_barbs` functionality from `metpy`.\n",
    "\n",
    "<div class=\"alert alert-info\">\n",
    "    <b>Tip</b>:\n",
    "     You can redisplay the same figure after we've modified it by simply putting the figure handle at the bottom\n",
    "     of the cell.\n",
    "</div>"
   ]
  },
  {
   "cell_type": "code",
   "execution_count": null,
   "metadata": {},
   "outputs": [],
   "source": [
    "# Add wind barbs\n",
    "skew.plot_barbs(p, u, v)\n",
    "\n",
    "# Set some sensible axis limits\n",
    "skew.ax.set_ylim(1000, 100)\n",
    "\n",
    "fig"
   ]
  },
  {
   "cell_type": "markdown",
   "metadata": {},
   "source": [
    "<div class=\"alert alert-success\">\n",
    "    <b>EXERCISE</b>:\n",
    "     <ul>\n",
    "      <li>Add a green line for dewpoint.</li>\n",
    "      <li>Set the x-axis limits to something sensible.</li>\n",
    "    <li> add the temperature, dewpoint for sounding 2. </li>\n",
    "    </ul>\n",
    "</div>"
   ]
  },
  {
   "cell_type": "code",
   "execution_count": null,
   "metadata": {},
   "outputs": [],
   "source": [
    "# Your code goes here\n"
   ]
  },
  {
   "cell_type": "markdown",
   "metadata": {},
   "source": [
    "<a href=\"#top\">Top</a>\n",
    "<hr style=\"height:2px;\">"
   ]
  },
  {
   "cell_type": "markdown",
   "metadata": {},
   "source": [
    "<a name=\"otherparameters\"></a>\n",
    "## water vapor\n",
    "One variable I always like to look at is how much water vapor is in the atmosphere, as this is key for convection. \n",
    "**How moist was Miami's atmosphere preceeding Irma's landfall, and how much did it dry out after Irma's passage?** use the code below to calculate, discuss in answer box below"
   ]
  },
  {
   "cell_type": "code",
   "execution_count": null,
   "metadata": {},
   "outputs": [],
   "source": [
    "mpcalc.precipitable_water(Td, p)"
   ]
  },
  {
   "cell_type": "code",
   "execution_count": null,
   "metadata": {},
   "outputs": [],
   "source": [
    "mpcalc.precipitable_water(Td, p).to('cm')"
   ]
  },
  {
   "cell_type": "code",
   "execution_count": null,
   "metadata": {},
   "outputs": [],
   "source": [
    "mpcalc.preciptable_water(Td2,p2)"
   ]
  },
  {
   "cell_type": "code",
   "execution_count": null,
   "metadata": {},
   "outputs": [],
   "source": [
    "mpcalc.precipitable_water(Td2,p2).to('cm')"
   ]
  },
  {
   "cell_type": "markdown",
   "metadata": {},
   "source": [
    "# discuss here"
   ]
  },
  {
   "cell_type": "markdown",
   "metadata": {},
   "source": [
    "<a name=\"otherparameters\"></a>\n",
    "## end of exercise\n",
    "This exercise including the figures can now be printed out as a PDF by going underneath 'File' at the top left hand corner, selecting 'Download as', then 'PDF via Latex'. Once done, please email to the instructor (pzuidema@miami.edu) and TA (abarkley@rsmas.miami.edu). Have a good rest of the day!"
   ]
  }
 ],
 "metadata": {
  "kernelspec": {
   "display_name": "Python 3",
   "language": "python",
   "name": "python3"
  },
  "language_info": {
   "codemirror_mode": {
    "name": "ipython",
    "version": 3
   },
   "file_extension": ".py",
   "mimetype": "text/x-python",
   "name": "python",
   "nbconvert_exporter": "python",
   "pygments_lexer": "ipython3",
   "version": "3.6.4"
  }
 },
 "nbformat": 4,
 "nbformat_minor": 1
}
